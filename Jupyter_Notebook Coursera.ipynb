{
 "cells": [
  {
   "cell_type": "markdown",
   "metadata": {},
   "source": [
    "<center>\n",
    "    <img src=\"https://cf-courses-data.s3.us.cloud-object-storage.appdomain.cloud/IBMDeveloperSkillsNetwork-DS0105EN-SkillsNetwork/labs/Module2/images/SN_web_lightmode.png\" width=\"300\" alt=\"cognitiveclass.ai logo\">\n",
    "</center>\n"
   ]
  },
  {
   "cell_type": "markdown",
   "metadata": {},
   "source": [
    "#### Add your code below following the instructions given in the course\n"
   ]
  },
  {
   "cell_type": "markdown",
   "metadata": {},
   "source": [
    "# Título del Cuaderno\n",
    "## Introducción\n",
    "Este cuaderno contiene varios ejemplos y ejercicios relacionados con la ciencia de datos\n",
    "## Lenguajes de Ciencia de Datos\n",
    "- Python\n",
    "- R\n",
    "- SQL\n",
    "- Julia\n",
    "- Scala\n",
    "## Bibliotecas de Ciencia de Datos\n",
    "- Pandas\n",
    "- NumPy\n",
    "- Matplotlib\n",
    "- Scikit-learn\n",
    "- TensorFlow  \n",
    "## Herramientas de Ciencia de Datos\n",
    "| Herramienta       | Descripción                          |\n",
    "|-------------------|--------------------------------------|\n",
    "| Jupyter Notebook  | Entorno interactivo de programación  |\n",
    "| RStudio           | IDE para R                           |\n",
    "| Apache Spark      | Motor de procesamiento de datos      |\n",
    "| TensorFlow        | Biblioteca de aprendizaje profundo   |\n",
    "| GitHub            | Plataforma para control de versiones |\n",
    "## Ejemplos de Expresiones Aritméticas\n",
    "- Suma: `2 + 3 = 5`\n",
    "- Resta: `5 - 2 = 3`\n",
    "- Multiplicación: `4 * 3 = 12`\n",
    "- División: `8 / 4 = 2`\n",
    "# Multiplicación y suma de números\n",
    "multiplicacion = 4 * 5\n",
    "suma = 4 + 5\n",
    "multiplicacion, suma\n",
    "# Convertir minutos en horas\n",
    "minutos = 120\n",
    "horas = minutos / 60\n",
    "horas\n",
    "# Lista de Objetivos\n",
    "objetivos = [\"Aprender Python\", \"Dominar la ciencia de datos\", \"Construir modelos predictivos\"]\n",
    "for objetivo in objetivos:\n",
    "    print(objetivo)\n",
    "## Autor\n",
    "Nombre del Autor\n"
   ]
  },
  {
   "cell_type": "code",
   "execution_count": null,
   "metadata": {},
   "outputs": [],
   "source": []
  }
 ],
 "metadata": {
  "kernelspec": {
   "display_name": "Python",
   "language": "python",
   "name": "conda-env-python-py"
  },
  "language_info": {
   "codemirror_mode": {
    "name": "ipython",
    "version": 3
   },
   "file_extension": ".py",
   "mimetype": "text/x-python",
   "name": "python",
   "nbconvert_exporter": "python",
   "pygments_lexer": "ipython3",
   "version": "3.7.12"
  }
 },
 "nbformat": 4,
 "nbformat_minor": 4
}
